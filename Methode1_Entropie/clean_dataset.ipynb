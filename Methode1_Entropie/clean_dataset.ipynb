{
 "cells": [
  {
   "cell_type": "markdown",
   "metadata": {},
   "source": [
    "Ce code supprime les lignes répétées dans les dataset publiques (publicDatasetTask1-2,publicDatasetTask3-4)"
   ]
  },
  {
   "cell_type": "code",
   "execution_count": null,
   "metadata": {},
   "outputs": [],
   "source": [
    "import pandas as pd\n",
    "\n",
    "# Path to the dataset\n",
    "file_path = '/home/azerty/snake2-beta-insa-main/snake2-beta-insa-main/data/publicData/publicDatasetTask1-2.parquet'\n",
    "\n",
    "# Load the dataset\n",
    "df2 = pd.read_parquet(file_path, engine='pyarrow')\n",
    "\n",
    "# Print the original shape\n",
    "print(\"Original shape:\", df2.shape)\n",
    "\n",
    "# Find and count duplicate rows\n",
    "duplicate_count = df2.duplicated().sum()\n",
    "print(\"Number of duplicate rows:\", duplicate_count)\n",
    "\n",
    "# Drop duplicate rows\n",
    "df2_cleaned = df2.drop_duplicates()\n",
    "\n",
    "# Print the new shape\n",
    "print(\"New shape after removing duplicates:\", df2_cleaned.shape)\n",
    "\n",
    "# Save the cleaned dataset back to the same path\n",
    "df2_cleaned.to_parquet(file_path, engine='pyarrow', index=False)\n",
    "\n",
    "print(\"Cleaned dataset saved successfully.\")\n"
   ]
  }
 ],
 "metadata": {
  "language_info": {
   "name": "python"
  }
 },
 "nbformat": 4,
 "nbformat_minor": 2
}
